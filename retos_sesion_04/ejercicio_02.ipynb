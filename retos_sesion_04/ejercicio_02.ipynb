{
 "cells": [
  {
   "cell_type": "markdown",
   "id": "ad9a6fd5",
   "metadata": {},
   "source": [
    "Crea un archivo \"ejercicio_02.ipynb\", añade un texto markdown con la descripcion del ejercicio \"2\" y crea una imagen utilizando simbolos y prints\n",
    "simbolos : * - , () \\ | / _ \" ´ = = C\n",
    "\n",
    "              ()\n",
    "              ||\n",
    "           \\||||||/\n",
    "           -------- \n",
    "\n"
   ]
  }
 ],
 "metadata": {
  "language_info": {
   "name": "python"
  }
 },
 "nbformat": 4,
 "nbformat_minor": 5
}
