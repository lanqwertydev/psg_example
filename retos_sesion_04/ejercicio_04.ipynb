{
 "cells": [
  {
   "cell_type": "markdown",
   "id": "4978a338",
   "metadata": {},
   "source": [
    "# La gallina loca\n",
    "atrapa la gallina con tu dado"
   ]
  },
  {
   "cell_type": "markdown",
   "id": "686febc2",
   "metadata": {},
   "source": [
    "# Reglas\n",
    "- La gallina tiene su propio dado y salta 1 casilla +\n",
    "- empiezas una casilla menos que la gallina\n",
    "- debes atraparla dos veces para ganar"
   ]
  },
  {
   "cell_type": "code",
   "execution_count": null,
   "id": "6eadc573",
   "metadata": {},
   "outputs": [],
   "source": [
    "print (\"[][][][][][]**\")\n",
    "print (\"[]          []\")\n",
    "print (\"[]          []\")\n",
    "print (\"[][][][][][][]\")"
   ]
  },
  {
   "cell_type": "markdown",
   "id": "6a185c36",
   "metadata": {},
   "source": [
    "# Descripcion de las piezas:\n",
    "1. gallina blanca \n",
    "2. pieza de peon negra"
   ]
  },
  {
   "cell_type": "code",
   "execution_count": null,
   "id": "5bdc0e33",
   "metadata": {},
   "outputs": [],
   "source": [
    "print (\"gallina\")\n",
    "print (\"  <o\")\n",
    "print (\"\\||||/\")\n",
    "print (\"  !!\")\n",
    "\n",
    "print (\"jugador\")\n",
    "print (\"   o  \")\n",
    "print (\"  \\H/\")\n",
    "print (\"   ||\")"
   ]
  }
 ],
 "metadata": {
  "language_info": {
   "name": "python"
  }
 },
 "nbformat": 4,
 "nbformat_minor": 5
}
