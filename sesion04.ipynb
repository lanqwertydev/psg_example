{
 "cells": [
  {
   "cell_type": "code",
   "execution_count": 14,
   "id": "0be5e549",
   "metadata": {},
   "outputs": [
    {
     "name": "stdout",
     "output_type": "stream",
     "text": [
      "   *\n",
      "  ***\n",
      " *****\n",
      "   !\n"
     ]
    }
   ],
   "source": [
    "print (\"   *\")\n",
    "print (\"  ***\")\n",
    "print (\" *****\")\n",
    "print (\"   !\")\n"
   ]
  },
  {
   "cell_type": "markdown",
   "id": "7ba2d093",
   "metadata": {},
   "source": [
    "# sesion 04\n",
    "- mi primer notebook\n",
    "- imprimir arbol\n",
    "- crear markdown\n",
    "- subir a mi repositorio\n",
    "- win + . = 😊"
   ]
  },
  {
   "cell_type": "markdown",
   "id": "29000362",
   "metadata": {},
   "source": []
  }
 ],
 "metadata": {
  "kernelspec": {
   "display_name": "Python 3",
   "language": "python",
   "name": "python3"
  },
  "language_info": {
   "codemirror_mode": {
    "name": "ipython",
    "version": 3
   },
   "file_extension": ".py",
   "mimetype": "text/x-python",
   "name": "python",
   "nbconvert_exporter": "python",
   "pygments_lexer": "ipython3",
   "version": "3.13.5"
  }
 },
 "nbformat": 4,
 "nbformat_minor": 5
}
